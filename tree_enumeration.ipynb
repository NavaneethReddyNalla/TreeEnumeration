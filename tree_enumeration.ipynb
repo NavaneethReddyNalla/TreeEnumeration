{
 "cells": [
  {
   "cell_type": "code",
   "execution_count": null,
   "id": "c948dc82",
   "metadata": {},
   "outputs": [],
   "source": [
    "%pip uninstall matplotlib\n",
    "%pip uninstall deepforest"
   ]
  },
  {
   "cell_type": "code",
   "execution_count": null,
   "id": "75f16a06",
   "metadata": {},
   "outputs": [],
   "source": [
    "import cv2\n",
    "import matplotlib.pyplot as plt\n",
    "from deepforest import main\n",
    "import numpy as np\n",
    "%matplotlib inline"
   ]
  },
  {
   "cell_type": "code",
   "execution_count": null,
   "id": "1e78b241",
   "metadata": {},
   "outputs": [],
   "source": [
    "#adjusting according to jupyter lab\n",
    "def display(img,cmap='gray'):\n",
    "    fig=plt.figure(figsize=(15,15))\n",
    "    ax=fig.add_subplot(111)\n",
    "    new_img=cv2.cvtColor(img,cv2.COLOR_BGR2RGB)\n",
    "    ax.imshow(new_img,cmap='gray')"
   ]
  },
  {
   "cell_type": "code",
   "execution_count": null,
   "id": "94160983",
   "metadata": {},
   "outputs": [],
   "source": [
    "#loading model\n",
    "my_model=main.deepforest()\n",
    "my_model.use_release()"
   ]
  },
  {
   "cell_type": "code",
   "execution_count": null,
   "id": "213ccc48",
   "metadata": {},
   "outputs": [],
   "source": [
    "image_path = \"./sample/1.jpg\"\n",
    "tree_image=cv2.imread(image_path)"
   ]
  },
  {
   "cell_type": "code",
   "execution_count": null,
   "id": "9e010c56",
   "metadata": {},
   "outputs": [],
   "source": [
    "display(tree_image)"
   ]
  },
  {
   "cell_type": "code",
   "execution_count": null,
   "id": "a2de0ebf",
   "metadata": {},
   "outputs": [],
   "source": [
    "# predeicting trees in an image without pre-processing\n",
    "\n",
    "box_info=my_model.predict_image(tree_image,return_plot=False)"
   ]
  },
  {
   "cell_type": "code",
   "execution_count": null,
   "id": "e245f926",
   "metadata": {},
   "outputs": [],
   "source": [
    "#no of trees detected (details)\n",
    "\n",
    "box_info"
   ]
  },
  {
   "cell_type": "code",
   "execution_count": null,
   "id": "c119026d",
   "metadata": {},
   "outputs": [],
   "source": [
    "#drawing circles in the detected trees with boxes\n",
    "\n",
    "for n in range(len(box_info)):\n",
    "    x=(box_info.xmin[n]+box_info.xmax[n])/2\n",
    "    y=(box_info.ymin[n]+box_info.ymax[n])/2\n",
    "    \n",
    "    cv2.circle(tree_image,(int(x),int(y)),4,(255,0,0),4)\n",
    "    \n",
    "cv2.putText(tree_image,'TOTAL TREES'+str(len(box_info)),(3,14),cv2.FONT_HERSHEY_SIMPLEX,0.5,(0,0,255))"
   ]
  },
  {
   "cell_type": "code",
   "execution_count": null,
   "id": "38e7187b",
   "metadata": {},
   "outputs": [],
   "source": [
    "#displaying image with detected images\n",
    "\n",
    "display(tree_image)"
   ]
  },
  {
   "cell_type": "code",
   "execution_count": null,
   "id": "8f92b2d1",
   "metadata": {},
   "outputs": [],
   "source": [
    "# applying pre-processing\n",
    "\n",
    "blured_img=cv2.medianBlur(tree_image,15)"
   ]
  },
  {
   "cell_type": "code",
   "execution_count": null,
   "id": "26dfcf5b",
   "metadata": {},
   "outputs": [],
   "source": [
    "# displaying pre-processed image\n",
    "display(blured_img)"
   ]
  },
  {
   "cell_type": "code",
   "execution_count": null,
   "id": "9ddea138",
   "metadata": {},
   "outputs": [],
   "source": [
    "# predeicting trees in on the pre-processed image image\n",
    "\n",
    "box_info=my_model.predict_image(blured_img,return_plot=False)"
   ]
  },
  {
   "cell_type": "code",
   "execution_count": null,
   "id": "f53f16d3",
   "metadata": {},
   "outputs": [],
   "source": [
    "#no of trees detected (details)\n",
    "\n",
    "box_info"
   ]
  },
  {
   "cell_type": "code",
   "execution_count": null,
   "id": "e065eb4d",
   "metadata": {},
   "outputs": [],
   "source": [
    "#drawing circles in the detected trees with boxes\n",
    "\n",
    "for n in range(len(box_info)):\n",
    "    x=(box_info.xmin[n]+box_info.xmax[n])/2\n",
    "    y=(box_info.ymin[n]+box_info.ymax[n])/2\n",
    "    \n",
    "    cv2.circle(tree_image,(int(x),int(y)),4,(255,0,0),4)\n",
    "    \n",
    "cv2.putText(tree_image,'TOTAL TREES'+str(len(box_info)),(3,14),cv2.FONT_HERSHEY_SIMPLEX,0.5,(0,0,255))"
   ]
  },
  {
   "cell_type": "code",
   "execution_count": null,
   "id": "6584e816",
   "metadata": {},
   "outputs": [],
   "source": [
    "#displaying image with detected images\n",
    "\n",
    "display(tree_image)"
   ]
  },
  {
   "cell_type": "code",
   "execution_count": null,
   "id": "1262d8c5",
   "metadata": {},
   "outputs": [],
   "source": [
    "#drawing circles in the detected trees with boxes\n",
    "\n",
    "for n in range(len(box_info)):\n",
    "    x=(box_info.xmin[n]+box_info.xmax[n])/2\n",
    "    y=(box_info.ymin[n]+box_info.ymax[n])/2\n",
    "    \n",
    "    cv2.circle(tree_image,(int(x),int(y)),4,(255,0,0),4)\n",
    "    \n",
    "cv2.putText(tree_image,'TOTAL TREES'+str(len(box_info)),(3,14),cv2.FONT_HERSHEY_SIMPLEX,0.5,(0,0,255))"
   ]
  },
  {
   "cell_type": "code",
   "execution_count": null,
   "id": "decbfec3",
   "metadata": {},
   "outputs": [],
   "source": [
    "for xmin,ymin,xmax,ymax in box_info:\n",
    "    cv2.rectangle(tree_image,(xmin,ymin),(xmax,ymax),(0,0,255),3)\n",
    "    \n",
    "    \n",
    "display(tree_image)"
   ]
  },
  {
   "cell_type": "code",
   "execution_count": null,
   "id": "00b0e399",
   "metadata": {},
   "outputs": [],
   "source": [
    "for xmin in box_info:\n",
    "    print(xmin[0])"
   ]
  }
 ],
 "metadata": {
  "kernelspec": {
   "display_name": "Python 3 (ipykernel)",
   "language": "python",
   "name": "python3"
  },
  "language_info": {
   "codemirror_mode": {
    "name": "ipython",
    "version": 3
   },
   "file_extension": ".py",
   "mimetype": "text/x-python",
   "name": "python",
   "nbconvert_exporter": "python",
   "pygments_lexer": "ipython3",
   "version": "3.11.7"
  }
 },
 "nbformat": 4,
 "nbformat_minor": 5
}
